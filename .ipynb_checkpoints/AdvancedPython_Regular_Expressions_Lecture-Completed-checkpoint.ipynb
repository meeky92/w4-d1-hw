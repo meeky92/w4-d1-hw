{
 "cells": [
  {
   "cell_type": "markdown",
   "metadata": {},
   "source": [
    "# Regular Expressions"
   ]
  },
  {
   "cell_type": "markdown",
   "metadata": {},
   "source": [
    "# Tasks today:\n",
    "1) <b>Importing</b> <br>\n",
    "2) <b>Using Regular Expressions</b> <br>\n",
    " &nbsp;&nbsp;&nbsp;&nbsp; a) re.compile() <br>\n",
    " &nbsp;&nbsp;&nbsp;&nbsp; b) re.match() <br>\n",
    " &nbsp;&nbsp;&nbsp;&nbsp; c) re.findall() <br>\n",
    " &nbsp;&nbsp;&nbsp;&nbsp; d) re.search() <br>\n",
    "3) <b>Sets</b> <br>\n",
    " &nbsp;&nbsp;&nbsp;&nbsp; a) Integer Ranges <br>\n",
    " &nbsp;&nbsp;&nbsp;&nbsp; b) Character Ranges <br>\n",
    "4) <b>Counting Occurences</b> <br>\n",
    " &nbsp;&nbsp;&nbsp;&nbsp; a) {x} <br>\n",
    " &nbsp;&nbsp;&nbsp;&nbsp; b) {, x} <br>\n",
    " &nbsp;&nbsp;&nbsp;&nbsp; c) {?} <br>\n",
    " &nbsp;&nbsp;&nbsp;&nbsp; d) {*} <br>\n",
    " &nbsp;&nbsp;&nbsp;&nbsp; e) {+} <br>\n",
    "5) <b>In-Class Exercise #1</b> <br>\n",
    "6) <b>Escaping Characters</b> <br>\n",
    "7) <b>Grouping</b> <br>\n",
    "8) <b>In-Class Exercise #2</b> <br>\n",
    "9) <b>Opening a File</b> <br>\n",
    " &nbsp;&nbsp;&nbsp;&nbsp; a) open() <br>\n",
    " &nbsp;&nbsp;&nbsp;&nbsp; b) with open() <br>\n",
    " &nbsp;&nbsp;&nbsp;&nbsp; c) re.match() <br>\n",
    " &nbsp;&nbsp;&nbsp;&nbsp; d) re.search() <br>\n",
    " &nbsp;&nbsp;&nbsp;&nbsp; e) Store the String in a Variable <br>\n",
    "10) <b>Regex Project</b> <br>"
   ]
  },
  {
   "cell_type": "markdown",
   "metadata": {},
   "source": [
    "### Importing <br>\n",
    "<p>Regular Expressions are universal throughout most programming languages... They are generally imported through the module 're'.</p>"
   ]
  },
  {
   "cell_type": "code",
   "execution_count": 3,
   "metadata": {},
   "outputs": [
    {
     "name": "stdout",
     "output_type": "stream",
     "text": [
      "<module 're' from '/Users/eunicekim/opt/anaconda3/lib/python3.9/re.py'>\n"
     ]
    }
   ],
   "source": [
    "# import re\n",
    "import re\n",
    "print(re)"
   ]
  },
  {
   "cell_type": "markdown",
   "metadata": {},
   "source": [
    "### Using Regular Expressions <br>\n",
    "<p>Regular expressions give us the ability to search for patterns within text, strings, files, etc. They serve several uses, such as; security measures, searching, filtering, pattern recognition, and more...</p>"
   ]
  },
  {
   "cell_type": "markdown",
   "metadata": {},
   "source": [
    "##### re.compile()"
   ]
  },
  {
   "cell_type": "code",
   "execution_count": 22,
   "metadata": {},
   "outputs": [
    {
     "name": "stdout",
     "output_type": "stream",
     "text": [
      "re.compile('abcd')\n"
     ]
    },
    {
     "data": {
      "text/plain": [
       "re.compile(r'abcd', re.UNICODE)"
      ]
     },
     "execution_count": 22,
     "metadata": {},
     "output_type": "execute_result"
    }
   ],
   "source": [
    "# using compile, predetermines the string to be used in regular expression methods\n",
    "pattern = re.compile('abcd')\n",
    "print(pattern)\n",
    "pattern"
   ]
  },
  {
   "cell_type": "code",
   "execution_count": 6,
   "metadata": {
    "scrolled": true
   },
   "outputs": [
    {
     "name": "stdout",
     "output_type": "stream",
     "text": [
      "Help on Pattern object:\n",
      "\n",
      "class Pattern(builtins.object)\n",
      " |  Compiled regular expression object.\n",
      " |  \n",
      " |  Methods defined here:\n",
      " |  \n",
      " |  __copy__(self, /)\n",
      " |  \n",
      " |  __deepcopy__(self, memo, /)\n",
      " |  \n",
      " |  __eq__(self, value, /)\n",
      " |      Return self==value.\n",
      " |  \n",
      " |  __ge__(self, value, /)\n",
      " |      Return self>=value.\n",
      " |  \n",
      " |  __gt__(self, value, /)\n",
      " |      Return self>value.\n",
      " |  \n",
      " |  __hash__(self, /)\n",
      " |      Return hash(self).\n",
      " |  \n",
      " |  __le__(self, value, /)\n",
      " |      Return self<=value.\n",
      " |  \n",
      " |  __lt__(self, value, /)\n",
      " |      Return self<value.\n",
      " |  \n",
      " |  __ne__(self, value, /)\n",
      " |      Return self!=value.\n",
      " |  \n",
      " |  __repr__(self, /)\n",
      " |      Return repr(self).\n",
      " |  \n",
      " |  findall(self, /, string, pos=0, endpos=9223372036854775807)\n",
      " |      Return a list of all non-overlapping matches of pattern in string.\n",
      " |  \n",
      " |  finditer(self, /, string, pos=0, endpos=9223372036854775807)\n",
      " |      Return an iterator over all non-overlapping matches for the RE pattern in string.\n",
      " |      \n",
      " |      For each match, the iterator returns a match object.\n",
      " |  \n",
      " |  fullmatch(self, /, string, pos=0, endpos=9223372036854775807)\n",
      " |      Matches against all of the string.\n",
      " |  \n",
      " |  match(self, /, string, pos=0, endpos=9223372036854775807)\n",
      " |      Matches zero or more characters at the beginning of the string.\n",
      " |  \n",
      " |  scanner(self, /, string, pos=0, endpos=9223372036854775807)\n",
      " |  \n",
      " |  search(self, /, string, pos=0, endpos=9223372036854775807)\n",
      " |      Scan through string looking for a match, and return a corresponding match object instance.\n",
      " |      \n",
      " |      Return None if no position in the string matches.\n",
      " |  \n",
      " |  split(self, /, string, maxsplit=0)\n",
      " |      Split string by the occurrences of pattern.\n",
      " |  \n",
      " |  sub(self, /, repl, string, count=0)\n",
      " |      Return the string obtained by replacing the leftmost non-overlapping occurrences of pattern in string by the replacement repl.\n",
      " |  \n",
      " |  subn(self, /, repl, string, count=0)\n",
      " |      Return the tuple (new_string, number_of_subs_made) found by replacing the leftmost non-overlapping occurrences of pattern with the replacement repl.\n",
      " |  \n",
      " |  ----------------------------------------------------------------------\n",
      " |  Class methods defined here:\n",
      " |  \n",
      " |  __class_getitem__(...) from builtins.type\n",
      " |      See PEP 585\n",
      " |  \n",
      " |  ----------------------------------------------------------------------\n",
      " |  Data descriptors defined here:\n",
      " |  \n",
      " |  flags\n",
      " |      The regex matching flags.\n",
      " |  \n",
      " |  groupindex\n",
      " |      A dictionary mapping group names to group numbers.\n",
      " |  \n",
      " |  groups\n",
      " |      The number of capturing groups in the pattern.\n",
      " |  \n",
      " |  pattern\n",
      " |      The pattern string from which the RE object was compiled.\n",
      "\n"
     ]
    }
   ],
   "source": [
    "help(pattern)"
   ]
  },
  {
   "cell_type": "markdown",
   "metadata": {},
   "source": [
    "##### re.match()"
   ]
  },
  {
   "cell_type": "code",
   "execution_count": 9,
   "metadata": {},
   "outputs": [
    {
     "name": "stdout",
     "output_type": "stream",
     "text": [
      "<re.Match object; span=(0, 4), match='abcd'>\n",
      "(0, 4)\n"
     ]
    }
   ],
   "source": [
    "match = pattern.match('abcd123')\n",
    "print(match)\n",
    "\n",
    "# Accessing the span of the match\n",
    "span = match.span()\n",
    "print(match.span())"
   ]
  },
  {
   "cell_type": "code",
   "execution_count": 8,
   "metadata": {},
   "outputs": [
    {
     "name": "stdout",
     "output_type": "stream",
     "text": [
      "None\n"
     ]
    }
   ],
   "source": [
    "match2 = pattern.match('123abcd')\n",
    "print(match2)"
   ]
  },
  {
   "cell_type": "code",
   "execution_count": 15,
   "metadata": {},
   "outputs": [
    {
     "name": "stdout",
     "output_type": "stream",
     "text": [
      "<re.Match object; span=(0, 4), match='abcd'>\n"
     ]
    }
   ],
   "source": [
    "match_again = re.match('abcd', 'abcdefghijklm')\n",
    "print(match_again)"
   ]
  },
  {
   "cell_type": "markdown",
   "metadata": {},
   "source": [
    "##### re.search()"
   ]
  },
  {
   "cell_type": "code",
   "execution_count": 17,
   "metadata": {},
   "outputs": [
    {
     "name": "stdout",
     "output_type": "stream",
     "text": [
      "<re.Match object; span=(12, 16), match='abcd'>\n",
      "abcd\n",
      "abcd\n",
      "(12, 16) <class 'tuple'>\n",
      "12 16\n",
      "a b c d\n"
     ]
    }
   ],
   "source": [
    "# returns the first match that it finds when scanning through string\n",
    "\n",
    "random_string = '123 123 234 abcd abc'\n",
    "search = pattern.search(random_string)\n",
    "print(search)\n",
    "\n",
    "# search method that returns tuple\n",
    "\n",
    "span = search.span()\n",
    "\n",
    "print(random_string[span[0] : span[1]])\n",
    "print(random_string[12:16])\n",
    "print(span, type(span))\n",
    "print(span[0], span[1])\n",
    "print(random_string[12],random_string[13],random_string[14],random_string[15])"
   ]
  },
  {
   "cell_type": "code",
   "execution_count": 20,
   "metadata": {},
   "outputs": [
    {
     "name": "stdout",
     "output_type": "stream",
     "text": [
      "None\n"
     ]
    }
   ],
   "source": [
    "# returns none if no match is found\n",
    "search2 = pattern.search('123 123 bacd dbckjhua 321')\n",
    "print(search2)"
   ]
  },
  {
   "cell_type": "markdown",
   "metadata": {},
   "source": [
    "##### re.findall()"
   ]
  },
  {
   "cell_type": "code",
   "execution_count": 21,
   "metadata": {},
   "outputs": [
    {
     "name": "stdout",
     "output_type": "stream",
     "text": [
      "Help on built-in function findall:\n",
      "\n",
      "findall(string, pos=0, endpos=9223372036854775807) method of re.Pattern instance\n",
      "    Return a list of all non-overlapping matches of pattern in string.\n",
      "\n"
     ]
    }
   ],
   "source": [
    "help(pattern.findall)"
   ]
  },
  {
   "cell_type": "code",
   "execution_count": 12,
   "metadata": {},
   "outputs": [
    {
     "name": "stdout",
     "output_type": "stream",
     "text": [
      "['abcd', 'abcd', 'abcd']\n"
     ]
    }
   ],
   "source": [
    "finders = pattern.findall('123abcd abcd123 abcd abcabc acb')\n",
    "print(finders)"
   ]
  },
  {
   "cell_type": "markdown",
   "metadata": {},
   "source": [
    "### Sets <br>\n",
    "<p>The following cells will allow you to use regular expressions to search for certain values within a range such as numbers 1 through 4.</p>"
   ]
  },
  {
   "cell_type": "markdown",
   "metadata": {},
   "source": [
    "##### [a-z] or [A-Z] - any lowercase/uppercase letters from a to z<br/>[^2] - anything that's not 2"
   ]
  },
  {
   "cell_type": "markdown",
   "metadata": {},
   "source": [
    "##### Integer Ranges"
   ]
  },
  {
   "cell_type": "code",
   "execution_count": 23,
   "metadata": {},
   "outputs": [
    {
     "data": {
      "text/plain": [
       "['2', '2', '3', '2', '3']"
      ]
     },
     "execution_count": 23,
     "metadata": {},
     "output_type": "execute_result"
    }
   ],
   "source": [
    "pattern_int = re.compile('[123]')\n",
    "#if you put it in a set [ ] it will search for each digit\n",
    "#can also do a range \n",
    "number_string = '2948572938425309'\n",
    "\n",
    "my_number_matches = pattern_int.findall(number_string)\n",
    "my_number_matches"
   ]
  },
  {
   "cell_type": "code",
   "execution_count": 24,
   "metadata": {},
   "outputs": [
    {
     "name": "stdout",
     "output_type": "stream",
     "text": [
      "673\n",
      "['673', '772']\n",
      "673\n"
     ]
    }
   ],
   "source": [
    "pattern_int = re.compile('[0-7][7-9][0-3]')\n",
    "\n",
    "# find random numbers that meet the 0-7;7-9;0-3 pattern that are. if you put a , it will look for that too\n",
    "# directly next to eachother\n",
    "# does not overlap\n",
    "random_ints = '67383'\n",
    "random_numbers = pattern_int.search(random_ints)\n",
    "span_int = random_numbers.span()\n",
    "print(random_ints[span_int[0]:span_int[1]])\n",
    "\n",
    "find_randoms = pattern_int.findall('673772')\n",
    "print(find_randoms)\n",
    "print(find_randoms[0])"
   ]
  },
  {
   "cell_type": "code",
   "execution_count": 25,
   "metadata": {},
   "outputs": [
    {
     "data": {
      "text/plain": [
       "['0', '1', '3', '4', '5', '6', '7', '8', '9']"
      ]
     },
     "execution_count": 25,
     "metadata": {},
     "output_type": "execute_result"
    }
   ],
   "source": [
    "not_two = re.compile('[^2]') # can do ('[^25]') will check 5 too\n",
    "# ^ shows all characters not that\n",
    "\n",
    "non_twos = not_two.findall('0123456789')\n",
    "\n",
    "non_twos"
   ]
  },
  {
   "cell_type": "markdown",
   "metadata": {},
   "source": [
    "##### Character Ranges"
   ]
  },
  {
   "cell_type": "code",
   "execution_count": 26,
   "metadata": {},
   "outputs": [
    {
     "name": "stdout",
     "output_type": "stream",
     "text": [
      "['He', 'Th', 'Mr', 'An']\n"
     ]
    }
   ],
   "source": [
    "char_pattern = re.compile('[A-Z][a-z]')\n",
    "\n",
    "# Search through a string that has an uppercase letter and lowercase letter\n",
    "# directly next to each other\n",
    "\n",
    "found = char_pattern.findall('Hello There Mr.Anderson')\n",
    "print(found)"
   ]
  },
  {
   "cell_type": "code",
   "execution_count": 28,
   "metadata": {},
   "outputs": [
    {
     "data": {
      "text/plain": [
       "'uncamel This Camel'"
      ]
     },
     "execution_count": 28,
     "metadata": {},
     "output_type": "execute_result"
    }
   ],
   "source": [
    "def camel_again(camel):\n",
    "    output = ''\n",
    "    for letter in camel:\n",
    "        if re.match('[A-Z]', letter):\n",
    "            output += ' '\n",
    "        output += letter\n",
    "    return output\n",
    "\n",
    "camel_again('uncamelThisCamel')"
   ]
  },
  {
   "cell_type": "code",
   "execution_count": 30,
   "metadata": {},
   "outputs": [
    {
     "name": "stdout",
     "output_type": "stream",
     "text": [
      "['H', 'e', 'l', 'l', 'o', 't', 'o', 'd', 'a', 'y', 'i', 's', 'O', 'c', 't', 'o', 'b', 'e', 'r', 't', 'h', 'a', 'n', 'd', 'i', 't', 'i', 's', 'd', 'e', 'g', 'r', 'e', 'e', 's']\n"
     ]
    }
   ],
   "source": [
    "# character range- uppercase comes first in terms of order\n",
    "\n",
    "all_alphabet = re.compile('[A-z]') # can do [A-Za-z] too, same same\n",
    "\n",
    "letter = all_alphabet.findall('Hello today is October 10th and it is 65 degrees')\n",
    "\n",
    "print(letter)"
   ]
  },
  {
   "cell_type": "code",
   "execution_count": 32,
   "metadata": {},
   "outputs": [
    {
     "name": "stdout",
     "output_type": "stream",
     "text": [
      "['T', 'h', 's', ' ', 'w', 'b', 's', 't', ' ', 's', 't', 'n', 'k', 's', ' ', 'L', 'L', '!']\n",
      "Ths wbst stnks LL!\n"
     ]
    }
   ],
   "source": [
    "non_vowels = re.compile('[^aeiouAEIOU]')\n",
    "fixed_troll = non_vowels.findall('This website stinks LOL!')\n",
    "print(fixed_troll)\n",
    "\n",
    "print(''.join(fixed_troll))"
   ]
  },
  {
   "cell_type": "markdown",
   "metadata": {},
   "source": [
    "### Counting Occurences"
   ]
  },
  {
   "cell_type": "markdown",
   "metadata": {},
   "source": [
    "##### {x} - something that occurs {num_of_times}"
   ]
  },
  {
   "cell_type": "code",
   "execution_count": 38,
   "metadata": {},
   "outputs": [
    {
     "name": "stdout",
     "output_type": "stream",
     "text": [
      "['60654-2345', '60644-2345']\n"
     ]
    }
   ],
   "source": [
    "my_address = '555 Circle Drive, Chicago, IL 60654-2345; 444 Square Rd. Chicago, IL 60644-2345;'\n",
    "\n",
    "# pattern is looking for a number in the range of 0-9 that occurs exactly 5 times\n",
    "zip_code_pattern = re.compile('[0-9]{5}-[0-9]{4}') # instead of [0-9][0-9][0-9][0-9][0-9]\n",
    "\n",
    "zip_codes = zip_code_pattern.findall(my_address)\n",
    "\n",
    "print(zip_codes)"
   ]
  },
  {
   "cell_type": "code",
   "execution_count": 8,
   "metadata": {},
   "outputs": [
    {
     "name": "stdout",
     "output_type": "stream",
     "text": [
      "['An12']\n"
     ]
    }
   ],
   "source": [
    "char_pattern_count = re.compile('[A-Z][a-z][0-3]{2}')\n",
    "\n",
    "found_count = char_pattern_count.findall('Hello Mr. An12derson')\n",
    "print(found_count)"
   ]
  },
  {
   "cell_type": "markdown",
   "metadata": {},
   "source": [
    "##### {x, x} - something that occurs between x and y times"
   ]
  },
  {
   "cell_type": "code",
   "execution_count": 42,
   "metadata": {},
   "outputs": [
    {
     "data": {
      "text/plain": [
       "['555', '60606', '2345', '92385', '72938', '43024', '559']"
      ]
     },
     "execution_count": 42,
     "metadata": {},
     "output_type": "execute_result"
    }
   ],
   "source": [
    "my_new_address = '555 Circle Drive Apt 1, Chicago, IL 60606-2345, 923857293843024559'\n",
    "\n",
    "# pattern is looking for digits that occur 3-5 times. will try to do the most possible aka 5 if possible\n",
    "three_to_five = re.compile('[0-9]{3,5}')\n",
    "found_nums = three_to_five.findall(my_new_address)\n",
    "\n",
    "found_nums"
   ]
  },
  {
   "cell_type": "code",
   "execution_count": 9,
   "metadata": {},
   "outputs": [
    {
     "name": "stdout",
     "output_type": "stream",
     "text": [
      "['m', 'm', 'm', 'mmm', 'mmmmm']\n"
     ]
    }
   ],
   "source": [
    "random_pattern = re.compile('m{1,5}')\n",
    "random_statement = random_pattern.findall(\"This is an example of a regular\\\n",
    "                                          expression trying to find one m,\\\n",
    "                                          more than one mmm or five mmmmm's\")\n",
    "print(random_statement)"
   ]
  },
  {
   "cell_type": "markdown",
   "metadata": {},
   "source": [
    "##### ? - something that occurs 0 or 1 time"
   ]
  },
  {
   "cell_type": "code",
   "execution_count": 46,
   "metadata": {},
   "outputs": [
    {
     "name": "stdout",
     "output_type": "stream",
     "text": [
      "['M', 'Mr', 'M', 'Mrs']\n"
     ]
    }
   ],
   "source": [
    "pattern = re.compile('Mr?s?') # M, Mr, Ms, Mrs == 'Mr{0,1}s{0,1}'\n",
    "\n",
    "found_pat = pattern.findall('Hello M there Mr.Anderson, Mid how is Mrss.Anderson')\n",
    "print(found_pat)"
   ]
  },
  {
   "cell_type": "markdown",
   "metadata": {},
   "source": [
    "##### * - something that occurs at least 0 times"
   ]
  },
  {
   "cell_type": "code",
   "execution_count": 47,
   "metadata": {},
   "outputs": [
    {
     "name": "stdout",
     "output_type": "stream",
     "text": [
      "['M', 'M', 'Ms']\n",
      "['M', 'M', 'Ms', 'Ms', 'Mssssss']\n"
     ]
    }
   ],
   "source": [
    "pattern_m = re.compile('Mr*s*') #Mr{0, infinity}s{0,infinity} min of 0, max or as many as possible\n",
    "\n",
    "found_m = pattern_m.findall('MMMs name is Ms.Smith. This is Mssssss')\n",
    "test = [\"MMMs\"]\n",
    "found_test = pattern_m.findall(test[0])\n",
    "print(found_test)\n",
    "print(found_m)"
   ]
  },
  {
   "cell_type": "markdown",
   "metadata": {},
   "source": [
    "##### + - something that occurs at least once"
   ]
  },
  {
   "cell_type": "code",
   "execution_count": 48,
   "metadata": {},
   "outputs": [
    {
     "name": "stdout",
     "output_type": "stream",
     "text": [
      "['Ms', 'MMMMMMs']\n"
     ]
    }
   ],
   "source": [
    "pattern_again = re.compile('M+s')\n",
    "\n",
    "found_patt = pattern_again.findall('My name is Ms.Smith. This is MMMMMMsssss')\n",
    "print(found_patt)"
   ]
  },
  {
   "cell_type": "code",
   "execution_count": 51,
   "metadata": {},
   "outputs": [
    {
     "name": "stdout",
     "output_type": "stream",
     "text": [
      "['Mrrrs']\n"
     ]
    }
   ],
   "source": [
    "test_string = 'Hello Mrrrrr. and Mrrrsss. Anderson. Have you seen Ms. Smith'\n",
    "at_least_one = re.compile('Mr+s')\n",
    "\n",
    "found_one = at_least_one.findall(test_string)\n",
    "print(found_one)"
   ]
  },
  {
   "cell_type": "code",
   "execution_count": 53,
   "metadata": {},
   "outputs": [
    {
     "data": {
      "text/plain": [
       "['3b', '33bb']"
      ]
     },
     "execution_count": 53,
     "metadata": {},
     "output_type": "execute_result"
    }
   ],
   "source": [
    "digit_before_char = re.compile('[0-9]+[a-z]+')\n",
    "\n",
    "digit_before_char.findall('3b 33bb')"
   ]
  },
  {
   "cell_type": "markdown",
   "metadata": {},
   "source": [
    "##### In-class exercise 1: \n",
    "\n",
    "Use a regular expression to find every number in the given string"
   ]
  },
  {
   "cell_type": "code",
   "execution_count": 65,
   "metadata": {},
   "outputs": [
    {
     "name": "stdout",
     "output_type": "stream",
     "text": [
      "['10909090', '1', '2']\n"
     ]
    }
   ],
   "source": [
    "my_string = \"This string has 10909090 numbers, but it is only 1 string. I hope you solve this 2day.\"\n",
    "found_num = re.compile('[0-9]{1,9}') # or {1,} or [0-9]+\n",
    "find_num = found_num.findall(my_string)\n",
    "print(find_num)\n",
    "\n",
    "\n",
    "\n",
    "# Output: ['10909090', '1', '2']\n"
   ]
  },
  {
   "cell_type": "code",
   "execution_count": null,
   "metadata": {},
   "outputs": [],
   "source": []
  },
  {
   "cell_type": "markdown",
   "metadata": {},
   "source": [
    "### Escaping Characters"
   ]
  },
  {
   "cell_type": "markdown",
   "metadata": {},
   "source": [
    "##### \\w - look for any Unicode character<br/>\\W - look for anything that isnt a Unicode character\n",
    "\n",
    "[History on Unicode](http://unicode.org/standard/WhatIsUnicode.html)\n",
    "\n",
    "[More on Unicode Characters](https://en.wikipedia.org/wiki/List_of_Unicode_characters)"
   ]
  },
  {
   "cell_type": "code",
   "execution_count": 66,
   "metadata": {},
   "outputs": [
    {
     "data": {
      "text/plain": [
       "<re.Match object; span=(31, 33), match='??'>"
      ]
     },
     "execution_count": 66,
     "metadata": {},
     "output_type": "execute_result"
    }
   ],
   "source": [
    "my_question = 'How do I find the question mark??'\n",
    "re.search('\\?+', my_question)"
   ]
  },
  {
   "cell_type": "code",
   "execution_count": 67,
   "metadata": {},
   "outputs": [
    {
     "name": "stdout",
     "output_type": "stream",
     "text": [
      "['T', 'h', 'i', 's', 'i', 's', 'a', 's', 'e', 'n', 't', 'e', 'n', 'c', 'e', 'w', 'i', 't', 'h', 'a', 'n', 'e', 'x', 'c', 'l', 'a', 'm', 'a', 't', 'i', 'o', 'n', 'm', 'a', 'r', 'k', 'a', 't', 't', 'h', 'e', 'e', 'n', 'd', 'f', 'i', 'r', 's', 't', '_', 'n', 'a', 'm', 'e', '1', '2', '3', '4', '5', '6']\n"
     ]
    }
   ],
   "source": [
    "# [a-za-z0-9_]\n",
    "sentence = 'This is a sentence. with an exclamation mark at the end! \\n first_name 123-456'\n",
    "letter_pattern = re.compile('\\w')\n",
    "\n",
    "letters = letter_pattern.findall(sentence)\n",
    "\n",
    "print(letters)"
   ]
  },
  {
   "cell_type": "code",
   "execution_count": 68,
   "metadata": {},
   "outputs": [
    {
     "name": "stdout",
     "output_type": "stream",
     "text": [
      "['This', 'is', 'a', 'sentence', 'with', 'an', 'exclamation', 'mark', 'at', 'the', 'end', 'first_name', '123', '456']\n"
     ]
    }
   ],
   "source": [
    "word_pattern = re.compile('\\w+') # find characters that add up to words\n",
    "\n",
    "words = word_pattern.findall(sentence)\n",
    "print(words)"
   ]
  },
  {
   "cell_type": "code",
   "execution_count": 70,
   "metadata": {},
   "outputs": [
    {
     "name": "stdout",
     "output_type": "stream",
     "text": [
      "[' ', ' ', ' ', '.', ' ', ' ', ' ', ' ', ' ', ' ', ' ', '!', ' ', '\\n', ' ', ' ', '-']\n"
     ]
    }
   ],
   "source": [
    "non_letter_pattern = re.compile('\\W') # [^a-zA-z0-9_]\n",
    "\n",
    "non_letters = non_letter_pattern.findall(sentence)\n",
    "print(non_letters)"
   ]
  },
  {
   "cell_type": "code",
   "execution_count": 71,
   "metadata": {},
   "outputs": [
    {
     "name": "stdout",
     "output_type": "stream",
     "text": [
      "[' ', ' ', ' ', '. ', ' ', ' ', ' ', ' ', ' ', ' ', '! \\n ', ' ', '-']\n"
     ]
    }
   ],
   "source": [
    "non_letter_pattern = re.compile('\\W+') # [^a-zA-z0-9_]\n",
    "\n",
    "non_letters = non_letter_pattern.findall(sentence)\n",
    "print(non_letters)"
   ]
  },
  {
   "cell_type": "code",
   "execution_count": 14,
   "metadata": {},
   "outputs": [
    {
     "name": "stdout",
     "output_type": "stream",
     "text": [
      "['This', 'is', 'a', 'sentance', 'With', 'an', 'exclamation', 'mark', 'at', 'the', 'end']\n",
      "[' ', ' ', ' ', '. ', ' ', ', ', ' ', ' ', ' ', ' ', '!']\n",
      "['T', 'h', 'i', 's', 'i', 's', 'a', 's', 'e', 'n', 't', 'a', 'n', 'c', 'e', 'W', 'i', 't', 'h', 'a', 'n', 'e', 'x', 'c', 'l', 'a', 'm', 'a', 't', 'i', 'o', 'n', 'm', 'a', 'r', 'k', 'a', 't', 't', 'h', 'e', 'e', 'n', 'd']\n",
      "[' ', ' ', ' ', '.', ' ', ' ', ',', ' ', ' ', ' ', ' ', ' ', '!']\n"
     ]
    }
   ],
   "source": [
    "pattern_1 = re.compile('[\\w]+') # Find characters that add up to words\n",
    "pattern_2 = re.compile('[\\W]+') # Find characters that are not words\n",
    "pattern_3 = re.compile('[\\w]')\n",
    "pattern_4 = re.compile('[\\W]')\n",
    "found_1 = pattern_1.findall(\"This is a sentance. With an, exclamation mark at the end!\")\n",
    "print(found_1)\n",
    "found_2 = pattern_2.findall(\"This is a sentance. With an, exclamation mark at the end!\")\n",
    "print(found_2)\n",
    "\n",
    "\n",
    "found_3 = pattern_3.findall(\"This is a sentance. With an, exclamation mark at the end!\")\n",
    "print(found_3)\n",
    "\n",
    "found_4 = pattern_4.findall(\"This is a sentance. With an, exclamation mark at the end!\")\n",
    "print(found_4)"
   ]
  },
  {
   "cell_type": "markdown",
   "metadata": {},
   "source": [
    "##### \\d - look for any digit 0-9<br/>\\D - look for anything that isnt a digit"
   ]
  },
  {
   "cell_type": "code",
   "execution_count": 72,
   "metadata": {},
   "outputs": [
    {
     "name": "stdout",
     "output_type": "stream",
     "text": [
      "['1', '59', '10', '10', '22']\n"
     ]
    }
   ],
   "source": [
    "some_string = 'Hello it is 1:59PM on 10/10/22'\n",
    "digit_pat = re.compile('\\d+') #[0-9]\n",
    "digits = digit_pat.findall(some_string)\n",
    "print(digits)"
   ]
  },
  {
   "cell_type": "code",
   "execution_count": null,
   "metadata": {
    "collapsed": true
   },
   "outputs": [],
   "source": [
    "non_digit_pat = re.compile('\\D') # [^0-9]\n",
    "\n",
    "non_digits = non_digit_pat.findall(some_string)\n",
    "\n",
    "print(non_digits)"
   ]
  },
  {
   "cell_type": "code",
   "execution_count": 15,
   "metadata": {},
   "outputs": [
    {
     "name": "stdout",
     "output_type": "stream",
     "text": [
      "['7th', '20da', '27th', '3rd', '1st', '30th']\n"
     ]
    }
   ],
   "source": [
    "pattern_nums = re.compile('\\d{1,2}[\\w]{2}')\n",
    "\n",
    "found_date = pattern_nums.findall(\"Today is the 7th, in 20days it will be the 27th. 3rd,1st,30th\")\n",
    "print(found_date)"
   ]
  },
  {
   "cell_type": "markdown",
   "metadata": {},
   "source": [
    "##### \\s - look for any white space<br/>\\S - look for anything that isnt whitespace"
   ]
  },
  {
   "cell_type": "code",
   "execution_count": 73,
   "metadata": {},
   "outputs": [
    {
     "name": "stdout",
     "output_type": "stream",
     "text": [
      "This is a sentence. \t with an, exclamation mark at the end!! \n",
      " first_name \t123-456\n"
     ]
    }
   ],
   "source": [
    "crazy_sentence = 'This is a sentence. \\t with an, exclamation mark at the end!! \\n first_name \\t123-456'\n",
    "print(crazy_sentence)"
   ]
  },
  {
   "cell_type": "code",
   "execution_count": 74,
   "metadata": {},
   "outputs": [
    {
     "name": "stdout",
     "output_type": "stream",
     "text": [
      "[' ', ' ', ' ', ' ', '\\t', ' ', ' ', ' ', ' ', ' ', ' ', ' ', ' ', '\\n', ' ', ' ', '\\t']\n"
     ]
    }
   ],
   "source": [
    "space_pattern = re.compile('\\s') #'[ \\n\\t\\r\\f\\v]'\n",
    "whitespace = space_pattern.findall(crazy_sentence)\n",
    "print(whitespace)"
   ]
  },
  {
   "cell_type": "code",
   "execution_count": 77,
   "metadata": {},
   "outputs": [
    {
     "name": "stdout",
     "output_type": "stream",
     "text": [
      "['T', 'h', 'i', 's', 'i', 's', 'a', 's', 'e', 'n', 't', 'e', 'n', 'c', 'e', '.', 'w', 'i', 't', 'h', 'a', 'n', ',', 'e', 'x', 'c', 'l', 'a', 'm', 'a', 't', 'i', 'o', 'n', 'm', 'a', 'r', 'k', 'a', 't', 't', 'h', 'e', 'e', 'n', 'd', '!', '!', 'f', 'i', 'r', 's', 't', '_', 'n', 'a', 'm', 'e', '1', '2', '3', '-', '4', '5', '6']\n"
     ]
    }
   ],
   "source": [
    "non_space_pattern = re.compile('\\S') #[^ \\n\\t\\r\\f\\v]\n",
    "non_whitespace = non_space_pattern.findall(crazy_sentence)\n",
    "print(non_whitespace)"
   ]
  },
  {
   "cell_type": "code",
   "execution_count": 78,
   "metadata": {},
   "outputs": [
    {
     "name": "stdout",
     "output_type": "stream",
     "text": [
      "['This', 'is', 'a', 'sentence.', 'with', 'an', 'exclamation', 'mark', 'at', 'the', 'end!', 'first_name', '123-456']\n"
     ]
    }
   ],
   "source": [
    "words_with_chars_pattern = re.compile('\\S+')\n",
    "words_with_chars = words_with_chars_pattern.findall(sentence)\n",
    "print(words_with_chars)\n",
    "#note there are periods and dashes. similar to "
   ]
  },
  {
   "cell_type": "code",
   "execution_count": 16,
   "metadata": {},
   "outputs": [
    {
     "name": "stdout",
     "output_type": "stream",
     "text": [
      "['A', 'r', 'e', 'y', 'o', 'u', 'a', 'f', 'r', 'a', 'i', 'd', 'o', 'f', 't', 'h', 'e', 'd', 'a', 'r', 'k', '?']\n",
      "[' ', ' ', ' ', ' ', ' ']\n"
     ]
    }
   ],
   "source": [
    "pattern_no_space = re.compile('\\S')\n",
    "pattern_space = re.compile('\\s+')\n",
    "\n",
    "found_dark = pattern_no_space.findall('Are you afraid of the dark?')\n",
    "print(found_dark)\n",
    "\n",
    "found_space = pattern_space.findall('Are you afraid of the dark?')\n",
    "print(found_space)"
   ]
  },
  {
   "cell_type": "markdown",
   "metadata": {},
   "source": [
    "##### \\b - look for boundaries or edges of a word<br/>\\B - look for anything that isnt a boundary"
   ]
  },
  {
   "cell_type": "code",
   "execution_count": 17,
   "metadata": {},
   "outputs": [
    {
     "name": "stdout",
     "output_type": "stream",
     "text": [
      "['TheCodingTemple']\n",
      "['TheCodingTemple']\n"
     ]
    }
   ],
   "source": [
    "pattern_bound = re.compile(r'\\bTheCodingTemple\\b')\n",
    "pattern_bound_none = re.compile('\\BTheCodingTemple\\B')\n",
    "\n",
    "found_bound = pattern_bound.findall(\"TheCodingTemple\")\n",
    "print(found_bound)\n",
    "\n",
    "no_found_bound = pattern_bound_none.findall(\"fgTheCodingTempledsf\")\n",
    "print(no_found_bound)"
   ]
  },
  {
   "cell_type": "code",
   "execution_count": 81,
   "metadata": {},
   "outputs": [
    {
     "data": {
      "text/plain": [
       "['cat', 'cat']"
      ]
     },
     "execution_count": 81,
     "metadata": {},
     "output_type": "execute_result"
    }
   ],
   "source": [
    "rhyme = 'The cat knows how to scat' # must have space around word\n",
    "pattern_boundary = re.compile(r'\\bcat\\b')\n",
    "\n",
    "pattern_boundary.findall(rhyme)"
   ]
  },
  {
   "cell_type": "code",
   "execution_count": 80,
   "metadata": {},
   "outputs": [
    {
     "name": "stdout",
     "output_type": "stream",
     "text": [
      "['T', 'h', 'e', 'c', 'a', 't', 'k', 'n', 'o', 'w', 's', 'h', 'o', 'w', 't', 'o', 's', 'c', 'a', 't']\n",
      "[' ', ' ', ' ', ' ', ' ']\n"
     ]
    }
   ],
   "source": [
    "print(letter_pattern.findall(rhyme))\n",
    "print(non_letter_pattern.findall(rhyme))"
   ]
  },
  {
   "cell_type": "code",
   "execution_count": 85,
   "metadata": {},
   "outputs": [],
   "source": [
    "non_boundary = re.compile(r'\\Bcat')\n",
    "non_boundary.search(rhyme)"
   ]
  },
  {
   "cell_type": "markdown",
   "metadata": {},
   "source": [
    "### Grouping"
   ]
  },
  {
   "cell_type": "code",
   "execution_count": 89,
   "metadata": {
    "scrolled": true
   },
   "outputs": [
    {
     "name": "stdout",
     "output_type": "stream",
     "text": [
      "[('Max', 'Smith'), ('Sam', 'Darnold'), ('LeBron', 'James'), ('Michael', 'Jordan'), ('Kevin', 'Durant'), ('Patrick', 'McCormick')]\n",
      "Max\n",
      "Not a name\n",
      "Sam\n",
      "LeBron\n",
      "Michael\n",
      "Kevin\n",
      "Patrick\n"
     ]
    }
   ],
   "source": [
    "my_string_again = \"Max Smith, aaron rodgers, Sam Darnold,LeBron James, Michael Jordan, Kevin Durant, Patrick McCormick\"\n",
    "\n",
    "# Group of names regular expression compiler\n",
    "name_pattern = re.compile('([A-Z][A-Za-z]+) ([A-Z][A-Za-z]+)')\n",
    "\n",
    "found_names = name_pattern.findall(my_string_again)\n",
    "print(found_names)\n",
    "\n",
    "# looping over the entire list to get tuples by themselves\n",
    "for name in my_string_again.split(','):\n",
    "    match = name_pattern.search(name)\n",
    "    \n",
    "    if match:\n",
    "        print(match.group(1))\n",
    "    else:\n",
    "        print(\"Not a name\")"
   ]
  },
  {
   "cell_type": "code",
   "execution_count": 91,
   "metadata": {},
   "outputs": [
    {
     "name": "stdout",
     "output_type": "stream",
     "text": [
      "<re.Match object; span=(0, 9), match='Max Smith'>\n",
      "Max\n"
     ]
    }
   ],
   "source": [
    "my_match = name_pattern.match(my_string_again)\n",
    "print(my_match)\n",
    "print(my_match.group(1))"
   ]
  },
  {
   "cell_type": "markdown",
   "metadata": {},
   "source": [
    "##### In-class Exercise 2:\n",
    "\n",
    "Write a function using regular expressions to find if the given email addresses (and return None for the invalid email addresses)<br><b>HINT: Use '|' for either or</b>"
   ]
  },
  {
   "cell_type": "code",
   "execution_count": 121,
   "metadata": {
    "scrolled": true
   },
   "outputs": [],
   "source": [
    "my_emails = [\"jordanw@codingtemple.orgcom\", \"pocohontas1776@gmail.com\", \"helloworld@aol..com\",\n",
    "             \"yourfavoriteband@g6.org\", \"@codingtemple.com\"]\n",
    "\n",
    "# You can also use the $ at the end of your compile expression -- this stops the search\n",
    "\n",
    "#.com OR .org => com|org\n",
    "\n",
    "#Expected output:\n",
    "#None\n",
    "#pocohontas1776@gmail.com\n",
    "#None\n",
    "#yourfavoriteband@g6.org\n",
    "#None\n",
    "\n",
    "#match method?\n",
    "\n",
    "#'^[a-z0-9]+[\\._]?[a-z0-9]+[@]\\w+[.]\\w{2,3}$'\n",
    "\n",
    "# regex = re.compile('^[a-z0-9]+[\\._]?[a-z0-9]+[@]\\w+[.]\\w{2,3}$')\n",
    "# valid = regex.findall(my_emails)\n",
    "\n",
    "# def is_valid_email(email_address):\n",
    "#     for email in my_emails:\n",
    "#         match = regex.fullmatch(email)\n",
    "        \n",
    "#         if match:\n",
    "#             return email\n",
    "#         else:\n",
    "#             return None\n",
    "\n",
    "# [\\w]+@[\\w]+\\.(org|com)$\n",
    "\n",
    "def is_valid_email(email_address):\n",
    "    # return the email address if it is valid, return None if not\n",
    "    valid_email_pattern = re.compile('[\\w]+@[\\w]+\\.(org|com)$')\n",
    "    match = valid_email_pattern.match(email_address)\n",
    "    if match:\n",
    "        return email_address\n",
    "\n",
    "\n",
    "for email in my_emails:\n",
    "    print(is_valid_email(email))\n"
   ]
  },
  {
   "cell_type": "markdown",
   "metadata": {},
   "source": [
    "### Opening a File <br>\n",
    "<p>Python gives us a couple ways to import files, below are the two used most often.</p>"
   ]
  },
  {
   "cell_type": "markdown",
   "metadata": {},
   "source": [
    "##### open()"
   ]
  },
  {
   "cell_type": "code",
   "execution_count": 101,
   "metadata": {},
   "outputs": [
    {
     "name": "stdout",
     "output_type": "stream",
     "text": [
      "Hawkins, Derek\tderek@codingtemple.com\t(555) 555-5555\tTeacher, Coding Temple\t@derekhawkins\n",
      "Stanton, Brian\tbrians@codingtemple.com\t(555) 555-5554\tTeacher, Coding Temple\n",
      "Johnson, Joe\tjoejohnson@codingtemple.com\t\tJohson, Joe\n",
      "Osterberg, Sven-Erik\tgovernor@norrbotten.co.se\t\tGovernor, Norrbotten\t@sverik\n",
      ", Tim\ttim@killerrabbit.com\t\tEnchanter, Killer Rabbit Cave\n",
      "Butz, Ryan\tryanb@codingtemple.com\t(555) 555-5543\tCEO, Coding Temple\t@ryanbutz\n",
      "Doctor, The\tdoctor+companion@tardis.co.uk\t\tTime Lord, Gallifrey\n",
      "Exampleson, Example\tme@example.com\t555-555-5552\tExample, Example Co.\t@example\n",
      "Pael, Ripal\tripalp@codingtemple.com\t(555) 555-5553\tTeacher, Coding Temple\t@ripalp\n",
      "Vader, Darth\tdarth-vader@empire.gov\t(555) 555-4444\tSith Lord, Galactic Empire\t@darthvader\n",
      "Fernandez de la Vega Sanz, Maria Teresa\tmtfvs@spain.gov\t\tFirst Deputy Prime Minister, Spanish Gov\n",
      "\n"
     ]
    }
   ],
   "source": [
    "file = open(\"names.txt\")\n",
    "\n",
    "data = file.read()\n",
    "\n",
    "print(data)\n",
    "\n",
    "# file.close()"
   ]
  },
  {
   "cell_type": "code",
   "execution_count": 21,
   "metadata": {},
   "outputs": [],
   "source": [
    "# file.read()"
   ]
  },
  {
   "cell_type": "markdown",
   "metadata": {},
   "source": [
    "##### with open()"
   ]
  },
  {
   "cell_type": "code",
   "execution_count": 22,
   "metadata": {},
   "outputs": [
    {
     "name": "stdout",
     "output_type": "stream",
     "text": [
      "Hawkins, Derek\tderek@codingtemple.com\t(555) 555-5555\tTeacher, Coding Temple\t@derekhawkins\n",
      "Stanton, Brian\tbrians@codingtemple.com\t(555) 555-5554\tTeacher, Coding Temple\n",
      "Johnson, Joe\tjoejohnson@codingtemple.com\t\tJohson, Joe\n",
      "Osterberg, Sven-Erik\tgovernor@norrbotten.co.se\t\tGovernor, Norrbotten\t@sverik\n",
      ", Tim\ttim@killerrabbit.com\t\tEnchanter, Killer Rabbit Cave\n",
      "Butz, Ryan\tryanb@codingtemple.com\t(555) 555-5543\tCEO, Coding Temple\t@ryanbutz\n",
      "Doctor, The\tdoctor+companion@tardis.co.uk\t\tTime Lord, Gallifrey\n",
      "Exampleson, Example\tme@example.com\t555-555-5552\tExample, Example Co.\t@example\n",
      "Pael, Ripal\tripalp@codingtemple.com\t(555) 555-5553\tTeacher, Coding Temple\t@ripalp\n",
      "Vader, Darth\tdarth-vader@empire.gov\t(555) 555-4444\tSith Lord, Galactic Empire\t@darthvader\n",
      "Fernandez de la Vega Sanz, Maria Teresa\tmtfvs@spain.gov\t\tFirst Deputy Prime Minister, Spanish Gov\n",
      "\n"
     ]
    }
   ],
   "source": [
    "with open('files/names.txt') as file:\n",
    "    data = file.read()\n",
    "    print(data)"
   ]
  },
  {
   "cell_type": "code",
   "execution_count": 23,
   "metadata": {},
   "outputs": [],
   "source": [
    "# file.read()"
   ]
  },
  {
   "cell_type": "markdown",
   "metadata": {},
   "source": [
    "##### re.match()"
   ]
  },
  {
   "cell_type": "code",
   "execution_count": 103,
   "metadata": {},
   "outputs": [
    {
     "name": "stdout",
     "output_type": "stream",
     "text": [
      "<re.Match object; span=(0, 14), match='Hawkins, Derek'>\n",
      "Hawkins, Derek\n"
     ]
    }
   ],
   "source": [
    "print(re.match(r\"Hawkins, Derek\", data))\n",
    "print(data[0:14])"
   ]
  },
  {
   "cell_type": "markdown",
   "metadata": {},
   "source": [
    "##### re.search()"
   ]
  },
  {
   "cell_type": "code",
   "execution_count": 104,
   "metadata": {},
   "outputs": [
    {
     "name": "stdout",
     "output_type": "stream",
     "text": [
      "<re.Match object; span=(588, 611), match='ripalp@codingtemple.com'>\n",
      "Ripal\tripalp@codingtemp\n"
     ]
    }
   ],
   "source": [
    "print(re.search(r\"ripalp@codingtemple.com\", data))\n",
    "print(data[582:605])"
   ]
  },
  {
   "cell_type": "markdown",
   "metadata": {},
   "source": [
    "##### Store the String to a Variable"
   ]
  },
  {
   "cell_type": "code",
   "execution_count": 102,
   "metadata": {},
   "outputs": [
    {
     "name": "stdout",
     "output_type": "stream",
     "text": [
      "What would you like to search for?...cat\n",
      "It's a no from me boss...\n"
     ]
    }
   ],
   "source": [
    "answer = input(\"What would you like to search for?...\")\n",
    "\n",
    "found = re.findall(answer,data)\n",
    "\n",
    "if found:\n",
    "    print(f\"I found you data: {found}\")\n",
    "else:\n",
    "    print(\"It's a no from me boss...\")"
   ]
  },
  {
   "cell_type": "code",
   "execution_count": 107,
   "metadata": {},
   "outputs": [
    {
     "name": "stdout",
     "output_type": "stream",
     "text": [
      "What would you like to search for?...hello\n",
      "hello not in data\n"
     ]
    }
   ],
   "source": [
    "answer = input(\"What would you like to search for?...\")\n",
    "\n",
    "found = re.search(answer, data)\n",
    "if found:\n",
    "    span_tuple = found.span()\n",
    "    print(f\"I found {answer} in the data from index {span_tuple[0]} to {span_tuple[1]}\")\n",
    "else:\n",
    "    print(f\"{answer} not in data\")"
   ]
  },
  {
   "cell_type": "code",
   "execution_count": 108,
   "metadata": {},
   "outputs": [
    {
     "data": {
      "text/plain": [
       "'Brian'"
      ]
     },
     "execution_count": 108,
     "metadata": {},
     "output_type": "execute_result"
    }
   ],
   "source": [
    "data[99:104]"
   ]
  },
  {
   "cell_type": "markdown",
   "metadata": {},
   "source": [
    "### In-Class Exercise #3 <br>\n",
    "<p>Print each persons name and twitter handle, using groups, should look like:</p>\n",
    "<p>==============<br>\n",
    "   Full Name / Twitter<br>\n",
    "   ==============</p>\n",
    "Derek Hawkins / @derekhawkins\n",
    "\n",
    " Erik Sven-Osterberg / @sverik\n",
    "\n",
    " Ryan Butz / @ryanbutz\n",
    "\n",
    " Example Exampleson / @example\n",
    "\n",
    " Ripal Pael / @ripalp\n",
    "\n",
    " Darth Vader / @darthvader"
   ]
  },
  {
   "cell_type": "code",
   "execution_count": 109,
   "metadata": {},
   "outputs": [],
   "source": [
    "names_pattern = re.compile(r\"\"\"\n",
    "    (?P<name>^[\\w\\s]*,\\s[\\w\\s-]+)\\t                        \n",
    "    (?P<email>[\\w+-]+@[\\w.]+)\\s\n",
    "    (?P<phone>\\(?\\d{3}\\)?[\\s-]\\d{3}-\\d{4})?\\s\n",
    "    (?P<title>[\\w\\s]+,\\s[\\w\\s.]+)\\s*\n",
    "    (?P<twitter>@[\\w]+)?$\n",
    "    \"\"\", re.M|re.X)\n",
    "\n",
    "# name of our person: Last, First * all have name match\n",
    "# email of our person: something@something.com * all have email match\n",
    "# phone num: (xxx) xxx-xxxx or xxx-xxx-xxxx * not all have phone\n",
    "# title: position, company * all have title match\n",
    "# twitter handle: @twittername *not all have twitter"
   ]
  },
  {
   "cell_type": "code",
   "execution_count": 110,
   "metadata": {},
   "outputs": [
    {
     "data": {
      "text/plain": [
       "<re.Match object; span=(0, 89), match='Hawkins, Derek\\tderek@codingtemple.com\\t(555) 555>"
      ]
     },
     "execution_count": 110,
     "metadata": {},
     "output_type": "execute_result"
    }
   ],
   "source": [
    "my_match = names_pattern.match(data)\n",
    "my_match"
   ]
  },
  {
   "cell_type": "code",
   "execution_count": 111,
   "metadata": {},
   "outputs": [
    {
     "data": {
      "text/plain": [
       "'@derekhawkins'"
      ]
     },
     "execution_count": 111,
     "metadata": {},
     "output_type": "execute_result"
    }
   ],
   "source": [
    "my_match.group('twitter')"
   ]
  },
  {
   "cell_type": "code",
   "execution_count": 115,
   "metadata": {},
   "outputs": [
    {
     "name": "stdout",
     "output_type": "stream",
     "text": [
      "Derek Hawkins / @derekhawkins\n",
      "Sven-Erik Osterberg / @sverik\n",
      "Ryan Butz / @ryanbutz\n",
      "Example Exampleson / @example\n",
      "Ripal Pael / @ripalp\n",
      "Darth Vader / @darthvader\n"
     ]
    }
   ],
   "source": [
    "for match in names_pattern.finditer(data):\n",
    "    if match.group('twitter'):\n",
    "        name = match.group('name')\n",
    "        first_name = name.split(', ')[1]\n",
    "        last_name = name.split(', ')[0]\n",
    "        \n",
    "        print(f\"{first_name} {last_name} / {match.group('twitter')}\")"
   ]
  },
  {
   "cell_type": "code",
   "execution_count": 117,
   "metadata": {
    "scrolled": true
   },
   "outputs": [
    {
     "name": "stdout",
     "output_type": "stream",
     "text": [
      "11\n"
     ]
    }
   ],
   "source": [
    "with open(\"names.txt\") as file:\n",
    "    data = file.readlines()\n",
    "    print(len(data)) # indexes fall between 0 - 10"
   ]
  },
  {
   "cell_type": "markdown",
   "metadata": {},
   "source": [
    "### Regex project\n",
    "\n",
    "Use python to read the file regex_test.txt and print the last name on each line using regular expressions and groups (return None for names with no first and last name, or names that aren't properly capitalized)\n",
    "##### Hint: use with open() and readlines()"
   ]
  },
  {
   "cell_type": "code",
   "execution_count": 118,
   "metadata": {},
   "outputs": [
    {
     "name": "stdout",
     "output_type": "stream",
     "text": [
      "Hawkins, Derek\tderek@codingtemple.com\t(555) 555-5555\tTeacher, Coding Temple\t@derekhawkins\n",
      "Stanton, Brian\tbrians@codingtemple.com\t(555) 555-5554\tTeacher, Coding Temple\n",
      "Johnson, Joe\tjoejohnson@codingtemple.com\t\tJohson, Joe\n",
      "Osterberg, Sven-Erik\tgovernor@norrbotten.co.se\t\tGovernor, Norrbotten\t@sverik\n",
      ", Tim\ttim@killerrabbit.com\t\tEnchanter, Killer Rabbit Cave\n",
      "Butz, Ryan\tryanb@codingtemple.com\t(555) 555-5543\tCEO, Coding Temple\t@ryanbutz\n",
      "Doctor, The\tdoctor+companion@tardis.co.uk\t\tTime Lord, Gallifrey\n",
      "Exampleson, Example\tme@example.com\t555-555-5552\tExample, Example Co.\t@example\n",
      "Pael, Ripal\tripalp@codingtemple.com\t(555) 555-5553\tTeacher, Coding Temple\t@ripalp\n",
      "Vader, Darth\tdarth-vader@empire.gov\t(555) 555-4444\tSith Lord, Galactic Empire\t@darthvader\n",
      "Fernandez de la Vega Sanz, Maria Teresa\tmtfvs@spain.gov\t\tFirst Deputy Prime Minister, Spanish Gov\n",
      "\n"
     ]
    }
   ],
   "source": [
    "with open('names.txt') as file:\n",
    "    str_data = file.read()\n",
    "    print(str_data)"
   ]
  },
  {
   "cell_type": "code",
   "execution_count": 119,
   "metadata": {},
   "outputs": [
    {
     "name": "stdout",
     "output_type": "stream",
     "text": [
      "['Hawkins, Derek\\tderek@codingtemple.com\\t(555) 555-5555\\tTeacher, Coding Temple\\t@derekhawkins\\n', 'Stanton, Brian\\tbrians@codingtemple.com\\t(555) 555-5554\\tTeacher, Coding Temple\\n', 'Johnson, Joe\\tjoejohnson@codingtemple.com\\t\\tJohson, Joe\\n', 'Osterberg, Sven-Erik\\tgovernor@norrbotten.co.se\\t\\tGovernor, Norrbotten\\t@sverik\\n', ', Tim\\ttim@killerrabbit.com\\t\\tEnchanter, Killer Rabbit Cave\\n', 'Butz, Ryan\\tryanb@codingtemple.com\\t(555) 555-5543\\tCEO, Coding Temple\\t@ryanbutz\\n', 'Doctor, The\\tdoctor+companion@tardis.co.uk\\t\\tTime Lord, Gallifrey\\n', 'Exampleson, Example\\tme@example.com\\t555-555-5552\\tExample, Example Co.\\t@example\\n', 'Pael, Ripal\\tripalp@codingtemple.com\\t(555) 555-5553\\tTeacher, Coding Temple\\t@ripalp\\n', 'Vader, Darth\\tdarth-vader@empire.gov\\t(555) 555-4444\\tSith Lord, Galactic Empire\\t@darthvader\\n', 'Fernandez de la Vega Sanz, Maria Teresa\\tmtfvs@spain.gov\\t\\tFirst Deputy Prime Minister, Spanish Gov\\n']\n"
     ]
    }
   ],
   "source": [
    "with open('names.txt') as file:\n",
    "    list_data = file.readlines()\n",
    "    print(list_data)\n",
    "    \n",
    "    #readlines will return a list "
   ]
  },
  {
   "cell_type": "code",
   "execution_count": 28,
   "metadata": {},
   "outputs": [
    {
     "data": {
      "text/plain": [
       "'\\nExpected Output\\nAbraham Lincoln\\nAndrew P Garfield\\nConnor Milliken\\nJordan Alexander Williams\\nNone\\nNone\\n'"
      ]
     },
     "execution_count": 28,
     "metadata": {},
     "output_type": "execute_result"
    }
   ],
   "source": [
    "# Expected Output\n",
    "# Abraham Lincoln\n",
    "# Andrew P Garfield\n",
    "# Connor Milliken\n",
    "# Jordan Alexander Williams\n",
    "# None\n",
    "# None"
   ]
  },
  {
   "cell_type": "code",
   "execution_count": 137,
   "metadata": {},
   "outputs": [
    {
     "name": "stdout",
     "output_type": "stream",
     "text": [
      "Abraham Lincoln\n",
      "Andrew P Garfield\n",
      "Connor Milliken\n",
      "Jordan Alexander Williams\n",
      "Madonna\n",
      "programming is cool\n",
      "\n"
     ]
    }
   ],
   "source": [
    "with open ('regex_test.txt') as file:\n",
    "    new_data = file.read()\n",
    "    print(new_data)"
   ]
  },
  {
   "cell_type": "code",
   "execution_count": 162,
   "metadata": {},
   "outputs": [
    {
     "name": "stdout",
     "output_type": "stream",
     "text": [
      "Abraham Lincoln\n",
      "Andrew P Garfield\n",
      "Connor Milliken\n",
      "Jordan Alexander Williams\n",
      "Madonna\n",
      "programming is cool\n",
      "\n"
     ]
    }
   ],
   "source": [
    "# def is_full_name(new_data):\n",
    "full_name = re.compile('[A-Z][a-z]*( [A-Z][a-z]*)+')\n",
    "my_match = full_name.match(new_data)\n",
    "\n",
    "new_list = []\n",
    "for match in full_name.findall(new_data):\n",
    "    if match:\n",
    "        new_list.append(full_name)\n",
    "    else:\n",
    "        pass\n",
    "    \n",
    "is_full_name(new_data)\n",
    "\n",
    "# lol I got lost in circles"
   ]
  },
  {
   "cell_type": "code",
   "execution_count": null,
   "metadata": {},
   "outputs": [],
   "source": []
  }
 ],
 "metadata": {
  "kernelspec": {
   "display_name": "Python 3 (ipykernel)",
   "language": "python",
   "name": "python3"
  },
  "language_info": {
   "codemirror_mode": {
    "name": "ipython",
    "version": 3
   },
   "file_extension": ".py",
   "mimetype": "text/x-python",
   "name": "python",
   "nbconvert_exporter": "python",
   "pygments_lexer": "ipython3",
   "version": "3.9.12"
  }
 },
 "nbformat": 4,
 "nbformat_minor": 2
}
